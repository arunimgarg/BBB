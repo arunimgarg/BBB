{
 "cells": [
  {
   "cell_type": "markdown",
   "metadata": {},
   "source": [
    "### Data set (load, normalize, train and test)"
   ]
  },
  {
   "cell_type": "code",
   "execution_count": 1,
   "metadata": {},
   "outputs": [],
   "source": [
    "import numpy as np \n",
    "import pandas as pd\n",
    "\n",
    "df = pd.read_excel('Dataset1.xls')"
   ]
  },
  {
   "cell_type": "code",
   "execution_count": 2,
   "metadata": {},
   "outputs": [
    {
     "name": "stdout",
     "output_type": "stream",
     "text": [
      "<class 'pandas.core.frame.DataFrame'>\n",
      "RangeIndex: 1632 entries, 0 to 1631\n",
      "Data columns (total 29 columns):\n",
      "No                       1630 non-null float64\n",
      "SMILES-Adenot            1629 non-null object\n",
      "SMILES                   1627 non-null object\n",
      "SMILES-B                 1601 non-null object\n",
      "Name                     1631 non-null object\n",
      "BBB-crossing             1630 non-null object\n",
      "P-gp                     88 non-null object\n",
      "note                     154 non-null object\n",
      "E                        1601 non-null float64\n",
      "S                        1601 non-null float64\n",
      "A                        1601 non-null float64\n",
      "B                        1601 non-null float64\n",
      "V                        1601 non-null float64\n",
      "MW                       1601 non-null float64\n",
      "PSA                      1601 non-null float64\n",
      "logP                     1601 non-null float64\n",
      "logD(7.4)                1593 non-null float64\n",
      "No of H donors           1601 non-null float64\n",
      "No of H Accetors         1601 non-null float64\n",
      "pKa (Acid)               1593 non-null float64\n",
      "pKa (Base)               1593 non-null float64\n",
      "Iv (Carboxy)             1601 non-null float64\n",
      "(+)Form                  1593 non-null float64\n",
      "(-)Form                  1593 non-null float64\n",
      "(+/-)Form                1593 non-null float64\n",
      "0Form                    1593 non-null float64\n",
      "No of Rotatable bonds    1601 non-null float64\n",
      "Distance-Ab              1592 non-null float64\n",
      "Training or test set     1593 non-null object\n",
      "dtypes: float64(21), object(8)\n",
      "memory usage: 369.8+ KB\n"
     ]
    }
   ],
   "source": [
    "df.info()"
   ]
  },
  {
   "cell_type": "code",
   "execution_count": 3,
   "metadata": {},
   "outputs": [
    {
     "data": {
      "text/html": [
       "<div>\n",
       "<style scoped>\n",
       "    .dataframe tbody tr th:only-of-type {\n",
       "        vertical-align: middle;\n",
       "    }\n",
       "\n",
       "    .dataframe tbody tr th {\n",
       "        vertical-align: top;\n",
       "    }\n",
       "\n",
       "    .dataframe thead th {\n",
       "        text-align: right;\n",
       "    }\n",
       "</style>\n",
       "<table border=\"1\" class=\"dataframe\">\n",
       "  <thead>\n",
       "    <tr style=\"text-align: right;\">\n",
       "      <th></th>\n",
       "      <th>No</th>\n",
       "      <th>SMILES-Adenot</th>\n",
       "      <th>SMILES</th>\n",
       "      <th>SMILES-B</th>\n",
       "      <th>Name</th>\n",
       "      <th>BBB-crossing</th>\n",
       "      <th>P-gp</th>\n",
       "      <th>note</th>\n",
       "      <th>E</th>\n",
       "      <th>S</th>\n",
       "      <th>...</th>\n",
       "      <th>pKa (Acid)</th>\n",
       "      <th>pKa (Base)</th>\n",
       "      <th>Iv (Carboxy)</th>\n",
       "      <th>(+)Form</th>\n",
       "      <th>(-)Form</th>\n",
       "      <th>(+/-)Form</th>\n",
       "      <th>0Form</th>\n",
       "      <th>No of Rotatable bonds</th>\n",
       "      <th>Distance-Ab</th>\n",
       "      <th>Training or test set</th>\n",
       "    </tr>\n",
       "  </thead>\n",
       "  <tbody>\n",
       "    <tr>\n",
       "      <th>0</th>\n",
       "      <td>1.0</td>\n",
       "      <td>FC(F)(Cl)C(F)(F)Cl</td>\n",
       "      <td>FC(F)(Cl)C(F)(F)Cl</td>\n",
       "      <td>FC(F)(Cl)C(F)(F)Cl</td>\n",
       "      <td>12dichlorotetrafluoroethane (cryofluorane)</td>\n",
       "      <td>1</td>\n",
       "      <td>NaN</td>\n",
       "      <td>Adenot names cryofluorane</td>\n",
       "      <td>-0.071273</td>\n",
       "      <td>0.106541</td>\n",
       "      <td>...</td>\n",
       "      <td>999.0</td>\n",
       "      <td>-999.0</td>\n",
       "      <td>0.0</td>\n",
       "      <td>0.000000</td>\n",
       "      <td>0.0</td>\n",
       "      <td>0.0</td>\n",
       "      <td>1.000000</td>\n",
       "      <td>1.0</td>\n",
       "      <td>0.261317</td>\n",
       "      <td>Training</td>\n",
       "    </tr>\n",
       "    <tr>\n",
       "      <th>1</th>\n",
       "      <td>2.0</td>\n",
       "      <td>CC1CCCCC1(N1CCCCC1)c1sccc1</td>\n",
       "      <td>CC1CCCCC1(N1CCCCC1)c1sccc1</td>\n",
       "      <td>CC1CCCCC1(N1CCCCC1)c1sccc1</td>\n",
       "      <td>2methylthiophencyclidine (gacyclidine)</td>\n",
       "      <td>1</td>\n",
       "      <td>NaN</td>\n",
       "      <td>adenot names gacyclidine</td>\n",
       "      <td>1.376874</td>\n",
       "      <td>1.113330</td>\n",
       "      <td>...</td>\n",
       "      <td>999.0</td>\n",
       "      <td>8.5</td>\n",
       "      <td>0.0</td>\n",
       "      <td>0.926412</td>\n",
       "      <td>0.0</td>\n",
       "      <td>0.0</td>\n",
       "      <td>0.073588</td>\n",
       "      <td>2.0</td>\n",
       "      <td>0.294440</td>\n",
       "      <td>Training</td>\n",
       "    </tr>\n",
       "    <tr>\n",
       "      <th>2</th>\n",
       "      <td>3.0</td>\n",
       "      <td>CC(Cc1ccccc1)NCCn1cnc2c1C(=O)N(C)C(=O)N2C</td>\n",
       "      <td>CC(Cc1ccccc1)NCCn2cnc3n(C)c(=O)n(C)c(=O)c23</td>\n",
       "      <td>CC(Cc1ccccc1)NCCn2cnc3n(C)c(=O)n(C)c(=O)c23</td>\n",
       "      <td>7amphetaminoethyltheophylline (fenetylline)</td>\n",
       "      <td>1</td>\n",
       "      <td>NaN</td>\n",
       "      <td>Adenot names fenetylline</td>\n",
       "      <td>2.200494</td>\n",
       "      <td>2.769513</td>\n",
       "      <td>...</td>\n",
       "      <td>999.0</td>\n",
       "      <td>8.9</td>\n",
       "      <td>0.0</td>\n",
       "      <td>0.969347</td>\n",
       "      <td>0.0</td>\n",
       "      <td>0.0</td>\n",
       "      <td>0.030653</td>\n",
       "      <td>6.0</td>\n",
       "      <td>0.427647</td>\n",
       "      <td>Training</td>\n",
       "    </tr>\n",
       "    <tr>\n",
       "      <th>3</th>\n",
       "      <td>4.0</td>\n",
       "      <td>CC(=O)NCCCN1CCN(CC1)c1cc(ccc1Cl)Cl</td>\n",
       "      <td>CC(=O)NCCCN1CCN(CC1)c2cc(Cl)ccc2Cl</td>\n",
       "      <td>CC(=O)NCCCN1CCN(CC1)c2cc(Cl)ccc2Cl</td>\n",
       "      <td>acaprazine</td>\n",
       "      <td>1</td>\n",
       "      <td>NaN</td>\n",
       "      <td>NaN</td>\n",
       "      <td>1.664719</td>\n",
       "      <td>2.202124</td>\n",
       "      <td>...</td>\n",
       "      <td>999.0</td>\n",
       "      <td>7.6</td>\n",
       "      <td>0.0</td>\n",
       "      <td>0.613137</td>\n",
       "      <td>0.0</td>\n",
       "      <td>0.0</td>\n",
       "      <td>0.386863</td>\n",
       "      <td>5.0</td>\n",
       "      <td>0.276987</td>\n",
       "      <td>Training</td>\n",
       "    </tr>\n",
       "    <tr>\n",
       "      <th>4</th>\n",
       "      <td>5.0</td>\n",
       "      <td>CC(C)CCC[C@@H](C)[C@H]1CCC2C3C[C@@H](Br)[C@@]4...</td>\n",
       "      <td>CC(C)CCCC(C)C3CCC4C2CC(Br)C1(Br)CC(CCC1(C)C2CC...</td>\n",
       "      <td>CC(C)CCCC(C)C3CCC4C2CC(Br)C1(Br)CC(CCC1(C)C2CC...</td>\n",
       "      <td>acebrochol</td>\n",
       "      <td>1</td>\n",
       "      <td>NaN</td>\n",
       "      <td>NaN</td>\n",
       "      <td>1.855738</td>\n",
       "      <td>2.195813</td>\n",
       "      <td>...</td>\n",
       "      <td>999.0</td>\n",
       "      <td>-999.0</td>\n",
       "      <td>0.0</td>\n",
       "      <td>0.000000</td>\n",
       "      <td>0.0</td>\n",
       "      <td>0.0</td>\n",
       "      <td>1.000000</td>\n",
       "      <td>7.0</td>\n",
       "      <td>0.758228</td>\n",
       "      <td>Training</td>\n",
       "    </tr>\n",
       "  </tbody>\n",
       "</table>\n",
       "<p>5 rows × 29 columns</p>\n",
       "</div>"
      ],
      "text/plain": [
       "    No                                      SMILES-Adenot  \\\n",
       "0  1.0                                 FC(F)(Cl)C(F)(F)Cl   \n",
       "1  2.0                         CC1CCCCC1(N1CCCCC1)c1sccc1   \n",
       "2  3.0          CC(Cc1ccccc1)NCCn1cnc2c1C(=O)N(C)C(=O)N2C   \n",
       "3  4.0                 CC(=O)NCCCN1CCN(CC1)c1cc(ccc1Cl)Cl   \n",
       "4  5.0  CC(C)CCC[C@@H](C)[C@H]1CCC2C3C[C@@H](Br)[C@@]4...   \n",
       "\n",
       "                                              SMILES  \\\n",
       "0                                 FC(F)(Cl)C(F)(F)Cl   \n",
       "1                         CC1CCCCC1(N1CCCCC1)c1sccc1   \n",
       "2        CC(Cc1ccccc1)NCCn2cnc3n(C)c(=O)n(C)c(=O)c23   \n",
       "3                CC(=O)NCCCN1CCN(CC1)c2cc(Cl)ccc2Cl    \n",
       "4  CC(C)CCCC(C)C3CCC4C2CC(Br)C1(Br)CC(CCC1(C)C2CC...   \n",
       "\n",
       "                                            SMILES-B  \\\n",
       "0                                 FC(F)(Cl)C(F)(F)Cl   \n",
       "1                         CC1CCCCC1(N1CCCCC1)c1sccc1   \n",
       "2        CC(Cc1ccccc1)NCCn2cnc3n(C)c(=O)n(C)c(=O)c23   \n",
       "3                CC(=O)NCCCN1CCN(CC1)c2cc(Cl)ccc2Cl    \n",
       "4  CC(C)CCCC(C)C3CCC4C2CC(Br)C1(Br)CC(CCC1(C)C2CC...   \n",
       "\n",
       "                                          Name BBB-crossing P-gp  \\\n",
       "0   12dichlorotetrafluoroethane (cryofluorane)            1  NaN   \n",
       "1       2methylthiophencyclidine (gacyclidine)            1  NaN   \n",
       "2  7amphetaminoethyltheophylline (fenetylline)            1  NaN   \n",
       "3                                   acaprazine            1  NaN   \n",
       "4                                   acebrochol            1  NaN   \n",
       "\n",
       "                        note         E         S  ...  pKa (Acid)  pKa (Base)  \\\n",
       "0  Adenot names cryofluorane -0.071273  0.106541  ...       999.0      -999.0   \n",
       "1   adenot names gacyclidine  1.376874  1.113330  ...       999.0         8.5   \n",
       "2   Adenot names fenetylline  2.200494  2.769513  ...       999.0         8.9   \n",
       "3                        NaN  1.664719  2.202124  ...       999.0         7.6   \n",
       "4                        NaN  1.855738  2.195813  ...       999.0      -999.0   \n",
       "\n",
       "   Iv (Carboxy)   (+)Form  (-)Form  (+/-)Form     0Form  \\\n",
       "0           0.0  0.000000      0.0        0.0  1.000000   \n",
       "1           0.0  0.926412      0.0        0.0  0.073588   \n",
       "2           0.0  0.969347      0.0        0.0  0.030653   \n",
       "3           0.0  0.613137      0.0        0.0  0.386863   \n",
       "4           0.0  0.000000      0.0        0.0  1.000000   \n",
       "\n",
       "   No of Rotatable bonds  Distance-Ab  Training or test set  \n",
       "0                    1.0     0.261317              Training  \n",
       "1                    2.0     0.294440              Training  \n",
       "2                    6.0     0.427647              Training  \n",
       "3                    5.0     0.276987              Training  \n",
       "4                    7.0     0.758228              Training  \n",
       "\n",
       "[5 rows x 29 columns]"
      ]
     },
     "execution_count": 3,
     "metadata": {},
     "output_type": "execute_result"
    }
   ],
   "source": [
    "df.head()"
   ]
  },
  {
   "cell_type": "code",
   "execution_count": 5,
   "metadata": {},
   "outputs": [
    {
     "data": {
      "text/plain": [
       "Index(['E', 'S', 'A', 'B', 'V', 'MW', 'PSA', 'logP', 'logD(7.4)',\n",
       "       'No of H donors', 'No of H Accetors', 'pKa (Acid)', 'pKa (Base)',\n",
       "       'Iv (Carboxy)', '(+)Form', '(-)Form', '(+/-)Form', '0Form',\n",
       "       'No of Rotatable bonds'],\n",
       "      dtype='object')"
      ]
     },
     "execution_count": 5,
     "metadata": {},
     "output_type": "execute_result"
    }
   ],
   "source": [
    "df.columns[8:27]"
   ]
  },
  {
   "cell_type": "markdown",
   "metadata": {},
   "source": [
    "### Using the training and testing set provided in the dataset"
   ]
  },
  {
   "cell_type": "code",
   "execution_count": 13,
   "metadata": {
    "scrolled": true
   },
   "outputs": [
    {
     "data": {
      "text/plain": [
       "0       1\n",
       "1       1\n",
       "2       1\n",
       "3       1\n",
       "4       1\n",
       "5       1\n",
       "6       1\n",
       "7       1\n",
       "8       1\n",
       "9       1\n",
       "10      1\n",
       "11      1\n",
       "12      1\n",
       "13      1\n",
       "14      1\n",
       "15      1\n",
       "16      1\n",
       "17      1\n",
       "18      1\n",
       "19      1\n",
       "20      1\n",
       "21      1\n",
       "22      1\n",
       "23      1\n",
       "24      1\n",
       "25      1\n",
       "26      1\n",
       "27      1\n",
       "28      1\n",
       "29      1\n",
       "       ..\n",
       "1563    0\n",
       "1564    0\n",
       "1565    0\n",
       "1566    0\n",
       "1567    0\n",
       "1568    0\n",
       "1569    0\n",
       "1570    0\n",
       "1571    0\n",
       "1572    0\n",
       "1573    0\n",
       "1574    0\n",
       "1575    0\n",
       "1576    0\n",
       "1577    0\n",
       "1578    0\n",
       "1579    0\n",
       "1580    0\n",
       "1581    0\n",
       "1582    0\n",
       "1583    0\n",
       "1584    0\n",
       "1585    0\n",
       "1586    0\n",
       "1587    0\n",
       "1588    0\n",
       "1589    0\n",
       "1590    0\n",
       "1591    0\n",
       "1592    0\n",
       "Name: BBB-crossing, Length: 1593, dtype: int32"
      ]
     },
     "execution_count": 13,
     "metadata": {},
     "output_type": "execute_result"
    }
   ],
   "source": [
    "data = df.iloc[0:1593, 8:27]\n",
    "target = df.iloc[0:1593, 5]\n",
    "target = target.astype('int')\n",
    "target"
   ]
  },
  {
   "cell_type": "code",
   "execution_count": 10,
   "metadata": {},
   "outputs": [
    {
     "name": "stdout",
     "output_type": "stream",
     "text": [
      "(1093, 18)\n",
      "(1093, 18)\n"
     ]
    }
   ],
   "source": [
    "x_train = data.iloc[0:1093, 0:18]\n",
    "x_train1 = np.array(x_train)\n",
    "print(x_train.shape)\n",
    "print(x_train1.shape)"
   ]
  },
  {
   "cell_type": "code",
   "execution_count": 14,
   "metadata": {},
   "outputs": [
    {
     "name": "stdout",
     "output_type": "stream",
     "text": [
      "(1093,)\n",
      "(1093,)\n"
     ]
    }
   ],
   "source": [
    "y_train = target.iloc[0:1093]\n",
    "y_train1 = np.array(y_train)\n",
    "y_train1 = y_train1.astype('int')\n",
    "print(y_train.shape)\n",
    "print(y_train1.shape)"
   ]
  },
  {
   "cell_type": "code",
   "execution_count": 15,
   "metadata": {},
   "outputs": [
    {
     "name": "stdout",
     "output_type": "stream",
     "text": [
      "(499, 18)\n",
      "(499, 18)\n"
     ]
    }
   ],
   "source": [
    "x_test = data.iloc[1094:1594, 0:18]\n",
    "x_test1 = np.array(x_test)\n",
    "print(x_test.shape)\n",
    "print(x_test1.shape)"
   ]
  },
  {
   "cell_type": "code",
   "execution_count": 16,
   "metadata": {},
   "outputs": [
    {
     "name": "stdout",
     "output_type": "stream",
     "text": [
      "(499,)\n",
      "(499,)\n"
     ]
    }
   ],
   "source": [
    "y_test = target.iloc[1094:1593]\n",
    "y_test1 = np.array(y_test)\n",
    "y_test1 = y_test1.astype('int')\n",
    "print(y_test.shape)\n",
    "print(y_test1.shape)"
   ]
  },
  {
   "cell_type": "markdown",
   "metadata": {},
   "source": [
    "### SVM Model"
   ]
  },
  {
   "cell_type": "code",
   "execution_count": 17,
   "metadata": {},
   "outputs": [],
   "source": [
    "from sklearn.svm import SVC\n",
    "import time"
   ]
  },
  {
   "cell_type": "code",
   "execution_count": 18,
   "metadata": {},
   "outputs": [],
   "source": [
    "model = SVC(kernel = 'rbf', gamma = 'auto', )"
   ]
  },
  {
   "cell_type": "code",
   "execution_count": 19,
   "metadata": {},
   "outputs": [
    {
     "name": "stdout",
     "output_type": "stream",
     "text": [
      "training time: 0.086 s\n"
     ]
    }
   ],
   "source": [
    "t0=time.time()\n",
    "model.fit(x_train1, y_train1)\n",
    "print(\"training time:\", round(time.time()-t0, 3), \"s\")"
   ]
  },
  {
   "cell_type": "code",
   "execution_count": 20,
   "metadata": {},
   "outputs": [
    {
     "name": "stdout",
     "output_type": "stream",
     "text": [
      "predict time: 0.03 s\n"
     ]
    }
   ],
   "source": [
    "t1=time.time()\n",
    "pred = model.predict(x_test1)\n",
    "print(\"predict time:\", round(time.time()-t1, 3), \"s\")"
   ]
  },
  {
   "cell_type": "code",
   "execution_count": 21,
   "metadata": {},
   "outputs": [],
   "source": [
    "from sklearn.metrics import classification_report\n",
    "from sklearn.metrics import confusion_matrix\n",
    "from sklearn.metrics import accuracy_score"
   ]
  },
  {
   "cell_type": "code",
   "execution_count": 22,
   "metadata": {},
   "outputs": [
    {
     "name": "stdout",
     "output_type": "stream",
     "text": [
      "0.9158316633266533\n"
     ]
    }
   ],
   "source": [
    "print(accuracy_score(y_test1, pred))"
   ]
  },
  {
   "cell_type": "code",
   "execution_count": 23,
   "metadata": {},
   "outputs": [
    {
     "name": "stdout",
     "output_type": "stream",
     "text": [
      "[[  8  41]\n",
      " [  1 449]]\n"
     ]
    }
   ],
   "source": [
    "print(confusion_matrix(y_test1, pred))"
   ]
  },
  {
   "cell_type": "code",
   "execution_count": 24,
   "metadata": {},
   "outputs": [
    {
     "name": "stdout",
     "output_type": "stream",
     "text": [
      "              precision    recall  f1-score   support\n",
      "\n",
      "           0       0.89      0.16      0.28        49\n",
      "           1       0.92      1.00      0.96       450\n",
      "\n",
      "    accuracy                           0.92       499\n",
      "   macro avg       0.90      0.58      0.62       499\n",
      "weighted avg       0.91      0.92      0.89       499\n",
      "\n"
     ]
    }
   ],
   "source": [
    "print(classification_report(y_test1, pred))"
   ]
  },
  {
   "cell_type": "markdown",
   "metadata": {},
   "source": [
    "### Choosing 40% of dataset as testing, and randomizing the dataset"
   ]
  },
  {
   "cell_type": "code",
   "execution_count": 25,
   "metadata": {},
   "outputs": [],
   "source": [
    "from sklearn.model_selection import train_test_split\n",
    "X_train, X_test, Y_train, Y_test = train_test_split(data, target, test_size=0.4, random_state=0)\n",
    "\n",
    "Y_train = Y_train.astype('int')\n",
    "Y_test = Y_test.astype('int')"
   ]
  },
  {
   "cell_type": "code",
   "execution_count": 26,
   "metadata": {},
   "outputs": [
    {
     "data": {
      "text/plain": [
       "array([0, 1], dtype=int64)"
      ]
     },
     "execution_count": 26,
     "metadata": {},
     "output_type": "execute_result"
    }
   ],
   "source": [
    "Y_test.unique()"
   ]
  },
  {
   "cell_type": "code",
   "execution_count": 27,
   "metadata": {},
   "outputs": [
    {
     "data": {
      "text/plain": [
       "((638, 19), (638,))"
      ]
     },
     "execution_count": 27,
     "metadata": {},
     "output_type": "execute_result"
    }
   ],
   "source": [
    "X_test.shape, Y_test.shape"
   ]
  },
  {
   "cell_type": "code",
   "execution_count": 28,
   "metadata": {},
   "outputs": [
    {
     "name": "stdout",
     "output_type": "stream",
     "text": [
      "training time: 0.067 s\n"
     ]
    }
   ],
   "source": [
    "t0=time.time()\n",
    "model.fit(X_train, Y_train)\n",
    "print(\"training time:\", round(time.time()-t0, 3), \"s\")"
   ]
  },
  {
   "cell_type": "code",
   "execution_count": 29,
   "metadata": {},
   "outputs": [
    {
     "name": "stdout",
     "output_type": "stream",
     "text": [
      "predict time: 0.036 s\n"
     ]
    }
   ],
   "source": [
    "t1=time.time()\n",
    "pred = model.predict(X_test)\n",
    "print(\"predict time:\", round(time.time()-t1, 3), \"s\")"
   ]
  },
  {
   "cell_type": "code",
   "execution_count": 30,
   "metadata": {},
   "outputs": [
    {
     "name": "stdout",
     "output_type": "stream",
     "text": [
      "0.8244514106583072\n"
     ]
    }
   ],
   "source": [
    "print(accuracy_score(Y_test, pred))"
   ]
  },
  {
   "cell_type": "markdown",
   "metadata": {},
   "source": [
    "### Cross Validation"
   ]
  },
  {
   "cell_type": "code",
   "execution_count": 31,
   "metadata": {},
   "outputs": [
    {
     "data": {
      "text/plain": [
       "array([0.80625   , 0.8125    , 0.8125    , 0.81761006, 0.81761006,\n",
       "       0.81761006, 0.81761006, 0.81132075, 0.82389937, 0.82389937])"
      ]
     },
     "execution_count": 31,
     "metadata": {},
     "output_type": "execute_result"
    }
   ],
   "source": [
    "from sklearn.model_selection import cross_val_score\n",
    "\n",
    "cv_results = cross_val_score(model, data, target, cv=10)\n",
    "\n",
    "cv_results\n"
   ]
  },
  {
   "cell_type": "code",
   "execution_count": 32,
   "metadata": {},
   "outputs": [
    {
     "name": "stdout",
     "output_type": "stream",
     "text": [
      "Accuracy: 0.82 (+/- 0.01)\n"
     ]
    }
   ],
   "source": [
    "print(\"Accuracy: %0.2f (+/- %0.2f)\" % (cv_results.mean(), cv_results.std() * 2))"
   ]
  },
  {
   "cell_type": "code",
   "execution_count": null,
   "metadata": {},
   "outputs": [],
   "source": []
  }
 ],
 "metadata": {
  "kernelspec": {
   "display_name": "Python 3",
   "language": "python",
   "name": "python3"
  },
  "language_info": {
   "codemirror_mode": {
    "name": "ipython",
    "version": 3
   },
   "file_extension": ".py",
   "mimetype": "text/x-python",
   "name": "python",
   "nbconvert_exporter": "python",
   "pygments_lexer": "ipython3",
   "version": "3.7.3"
  }
 },
 "nbformat": 4,
 "nbformat_minor": 2
}
